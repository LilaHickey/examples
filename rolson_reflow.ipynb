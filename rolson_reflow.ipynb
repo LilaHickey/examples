{
 "metadata": {
  "name": "",
  "signature": "sha256:517827cc6fa70104f3d4bf09813bbe486f37150f29f544563f40d2620e11e2c0"
 },
 "nbformat": 3,
 "nbformat_minor": 0,
 "worksheets": [
  {
   "cells": [
    {
     "cell_type": "heading",
     "level": 2,
     "metadata": {},
     "source": [
      "Reflowing Randy Olson's [\"Average IQ of students by college major and gender ratio\"](http://www.randalolson.com/2014/06/25/average-iq-of-students-by-college-major-and-gender-ratio/)"
     ]
    },
    {
     "cell_type": "markdown",
     "metadata": {},
     "source": [
      "I came across this intriguing visualization, and I really wanted to understand the underlying data more.\n",
      "\n",
      "First things first: obtain the data. I downloaded the csv file that backs the [plot.ly](https://plot.ly/~randal_olson/10) instance, and pulled it into Python."
     ]
    },
    {
     "cell_type": "code",
     "collapsed": false,
     "input": [
      "import csv\n",
      "with open('data/grid.csv', 'r') as f:\n",
      "    reader = csv.reader(f)\n",
      "    labels = reader.next()\n",
      "    data = reader.next()\n",
      "    print len(labels) == len(data)"
     ],
     "language": "python",
     "metadata": {},
     "outputs": [
      {
       "output_type": "stream",
       "stream": "stdout",
       "text": [
        "False\n"
       ]
      }
     ],
     "prompt_number": 28
    },
    {
     "cell_type": "markdown",
     "metadata": {},
     "source": [
      "That's no good..."
     ]
    }
   ],
   "metadata": {}
  }
 ]
}